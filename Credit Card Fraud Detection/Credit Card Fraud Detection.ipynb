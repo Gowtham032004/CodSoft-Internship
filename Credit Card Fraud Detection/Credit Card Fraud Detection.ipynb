{
 "cells": [
  {
   "cell_type": "code",
   "execution_count": 37,
   "id": "cf91b205-0238-442e-9432-5a39c12582ff",
   "metadata": {},
   "outputs": [],
   "source": [
    "import pandas as pd\n",
    "from sklearn.model_selection import train_test_split\n",
    "from sklearn.preprocessing import StandardScaler\n",
    "from sklearn.linear_model import LogisticRegression\n",
    "from sklearn.tree import DecisionTreeClassifier\n",
    "from sklearn.ensemble import RandomForestClassifier\n",
    "from sklearn.metrics import classification_report, accuracy_score, confusion_matrix\n",
    "import matplotlib.pyplot as plt\n",
    "from sklearn.tree import plot_tree"
   ]
  },
  {
   "cell_type": "code",
   "execution_count": 38,
   "id": "571df8dc-1ea3-46c5-9024-07460538ab4d",
   "metadata": {},
   "outputs": [],
   "source": [
    "train_data = pd.read_csv(\"fraudtrain.csv\")\n",
    "test_data = pd.read_csv(\"fraudtest.csv\")"
   ]
  },
  {
   "cell_type": "code",
   "execution_count": 39,
   "id": "50aed37f-875e-4d16-a358-8a0eb60d7d2a",
   "metadata": {},
   "outputs": [
    {
     "name": "stdout",
     "output_type": "stream",
     "text": [
      "Train data missing values:\n",
      " Unnamed: 0               0\n",
      "trans_date_trans_time    0\n",
      "cc_num                   0\n",
      "merchant                 0\n",
      "category                 0\n",
      "amt                      0\n",
      "first                    0\n",
      "last                     0\n",
      "gender                   0\n",
      "street                   0\n",
      "city                     0\n",
      "state                    0\n",
      "zip                      0\n",
      "lat                      0\n",
      "long                     0\n",
      "city_pop                 0\n",
      "job                      0\n",
      "dob                      0\n",
      "trans_num                0\n",
      "unix_time                0\n",
      "merch_lat                0\n",
      "merch_long               0\n",
      "is_fraud                 0\n",
      "dtype: int64\n",
      "Test data missing values:\n",
      " Unnamed: 0               0\n",
      "trans_date_trans_time    0\n",
      "cc_num                   0\n",
      "merchant                 0\n",
      "category                 0\n",
      "amt                      0\n",
      "first                    0\n",
      "last                     0\n",
      "gender                   0\n",
      "street                   0\n",
      "city                     0\n",
      "state                    0\n",
      "zip                      0\n",
      "lat                      0\n",
      "long                     0\n",
      "city_pop                 0\n",
      "job                      0\n",
      "dob                      0\n",
      "trans_num                0\n",
      "unix_time                0\n",
      "merch_lat                0\n",
      "merch_long               0\n",
      "is_fraud                 0\n",
      "dtype: int64\n"
     ]
    }
   ],
   "source": [
    "print(\"Train data missing values:\\n\", train_data.isnull().sum())\n",
    "print(\"Test data missing values:\\n\", test_data.isnull().sum())"
   ]
  },
  {
   "cell_type": "code",
   "execution_count": 40,
   "id": "5c967190-3f03-43db-8c6a-33639cae0f1a",
   "metadata": {},
   "outputs": [],
   "source": [
    "train_data = pd.get_dummies(train_data, columns=['category', 'gender', 'state'])\n",
    "test_data = pd.get_dummies(test_data, columns=['category', 'gender', 'state'])"
   ]
  },
  {
   "cell_type": "code",
   "execution_count": 41,
   "id": "b2d082ed-bc1a-4436-9785-c1b062acf4b8",
   "metadata": {},
   "outputs": [],
   "source": [
    "train_data, test_data = train_data.align(test_data, join='inner', axis=1)"
   ]
  },
  {
   "cell_type": "code",
   "execution_count": 42,
   "id": "3d336603-276b-4ce5-85b4-86202e50e231",
   "metadata": {},
   "outputs": [],
   "source": [
    "X_train = train_data.drop(['is_fraud', 'trans_date_trans_time', 'first', 'last', 'street', 'city', 'zip', 'job', 'dob', 'trans_num'], axis=1)\n",
    "y_train = train_data['is_fraud']\n",
    "X_test = test_data.drop(['is_fraud', 'trans_date_trans_time', 'first', 'last', 'street', 'city', 'zip', 'job', 'dob', 'trans_num'], axis=1)\n",
    "y_test = test_data['is_fraud']"
   ]
  },
  {
   "cell_type": "code",
   "execution_count": 43,
   "id": "5881ac50-10fe-4fd0-bfef-98931dbb3553",
   "metadata": {},
   "outputs": [
    {
     "name": "stdout",
     "output_type": "stream",
     "text": [
      "Columns in X_train after dropping non-numeric columns:\n",
      " Unnamed: 0      int64\n",
      "cc_num          int64\n",
      "amt           float64\n",
      "lat           float64\n",
      "long          float64\n",
      "               ...   \n",
      "state_VT         bool\n",
      "state_WA         bool\n",
      "state_WI         bool\n",
      "state_WV         bool\n",
      "state_WY         bool\n",
      "Length: 75, dtype: object\n"
     ]
    }
   ],
   "source": [
    "non_numeric_columns = ['trans_date_trans_time', 'first', 'last', 'street', 'city', 'zip', 'job', 'dob', 'trans_num', 'merchant']\n",
    "X_train = train_data.drop(non_numeric_columns + ['is_fraud'], axis=1)\n",
    "y_train = train_data['is_fraud']\n",
    "X_test = test_data.drop(non_numeric_columns + ['is_fraud'], axis=1)\n",
    "y_test = test_data['is_fraud']\n",
    "\n",
    "print(\"Columns in X_train after dropping non-numeric columns:\\n\", X_train.dtypes)\n",
    "\n",
    "scaler = StandardScaler()\n",
    "X_train = scaler.fit_transform(X_train)\n",
    "X_test = scaler.transform(X_test)\n"
   ]
  },
  {
   "cell_type": "code",
   "execution_count": 44,
   "id": "50bb6d3c-13ec-4213-aef9-72c9d9b86739",
   "metadata": {},
   "outputs": [],
   "source": [
    "logistic_model = LogisticRegression(random_state=0)\n",
    "decision_tree_model = DecisionTreeClassifier(random_state=0)\n",
    "random_forest_model = RandomForestClassifier(random_state=0)"
   ]
  },
  {
   "cell_type": "code",
   "execution_count": 45,
   "id": "8784bbf7-9a12-48bc-862e-d0487a399934",
   "metadata": {},
   "outputs": [
    {
     "name": "stdout",
     "output_type": "stream",
     "text": [
      "\n",
      "Logistic Regression Results:\n",
      "Accuracy: 0.9955912970404107\n",
      "              precision    recall  f1-score   support\n",
      "\n",
      "           0       1.00      1.00      1.00    553574\n",
      "           1       0.00      0.00      0.00      2145\n",
      "\n",
      "    accuracy                           1.00    555719\n",
      "   macro avg       0.50      0.50      0.50    555719\n",
      "weighted avg       0.99      1.00      0.99    555719\n",
      "\n",
      "Confusion Matrix:\n",
      " [[553269    305]\n",
      " [  2145      0]]\n"
     ]
    }
   ],
   "source": [
    "print(\"\\nLogistic Regression Results:\")\n",
    "logistic_model.fit(X_train, y_train)\n",
    "y_pred_logistic = logistic_model.predict(X_test)\n",
    "print(\"Accuracy:\", accuracy_score(y_test, y_pred_logistic))\n",
    "print(classification_report(y_test, y_pred_logistic))\n",
    "print(\"Confusion Matrix:\\n\", confusion_matrix(y_test, y_pred_logistic))"
   ]
  },
  {
   "cell_type": "code",
   "execution_count": 46,
   "id": "5d965936-63bf-4e5a-96e8-9716faee192a",
   "metadata": {},
   "outputs": [
    {
     "name": "stdout",
     "output_type": "stream",
     "text": [
      "\n",
      "Decision Tree Results:\n",
      "Accuracy: 0.9913283511990773\n",
      "              precision    recall  f1-score   support\n",
      "\n",
      "           0       1.00      0.99      1.00    553574\n",
      "           1       0.24      0.59      0.34      2145\n",
      "\n",
      "    accuracy                           0.99    555719\n",
      "   macro avg       0.62      0.79      0.67    555719\n",
      "weighted avg       1.00      0.99      0.99    555719\n",
      "\n",
      "Confusion Matrix:\n",
      " [[549640   3934]\n",
      " [   885   1260]]\n"
     ]
    }
   ],
   "source": [
    "print(\"\\nDecision Tree Results:\")\n",
    "decision_tree_model.fit(X_train, y_train)\n",
    "y_pred_tree = decision_tree_model.predict(X_test)\n",
    "print(\"Accuracy:\", accuracy_score(y_test, y_pred_tree))\n",
    "print(classification_report(y_test, y_pred_tree))\n",
    "print(\"Confusion Matrix:\\n\", confusion_matrix(y_test, y_pred_tree))"
   ]
  },
  {
   "cell_type": "code",
   "execution_count": null,
   "id": "95a2b130-d3be-42bc-9b59-0b59ed83d342",
   "metadata": {},
   "outputs": [
    {
     "name": "stdout",
     "output_type": "stream",
     "text": [
      "\n",
      "Random Forest Results:\n"
     ]
    }
   ],
   "source": [
    "print(\"\\nRandom Forest Results:\")\n",
    "random_forest_model.fit(X_train, y_train)\n",
    "y_pred_forest = random_forest_model.predict(X_test)\n",
    "print(\"Accuracy:\", accuracy_score(y_test, y_pred_forest))\n",
    "print(classification_report(y_test, y_pred_forest))\n",
    "print(\"Confusion Matrix:\\n\", confusion_matrix(y_test, y_pred_forest))"
   ]
  },
  {
   "cell_type": "code",
   "execution_count": null,
   "id": "9f5db429-14e7-4f55-9e24-ac17415cd3ae",
   "metadata": {},
   "outputs": [],
   "source": [
    "model_names = ['Logistic Regression', 'Decision Tree', 'Random Forest']\n",
    "accuracies = []"
   ]
  },
  {
   "cell_type": "code",
   "execution_count": null,
   "id": "e2e5a17f-c0dd-4564-9466-563682b98e13",
   "metadata": {},
   "outputs": [],
   "source": [
    "print(\"\\nLogistic Regression Results:\")\n",
    "logistic_model.fit(X_train, y_train)\n",
    "y_pred_logistic = logistic_model.predict(X_test)\n",
    "accuracy_logistic = accuracy_score(y_test, y_pred_logistic)\n",
    "accuracies.append(accuracy_logistic)\n",
    "print(\"Accuracy:\", accuracy_logistic)\n",
    "print(classification_report(y_test, y_pred_logistic))\n",
    "print(\"Confusion Matrix:\\n\", confusion_matrix(y_test, y_pred_logistic))"
   ]
  },
  {
   "cell_type": "code",
   "execution_count": null,
   "id": "2e22a6f1-ae4a-4b23-b768-eb0ee5756e2d",
   "metadata": {},
   "outputs": [],
   "source": [
    "print(\"\\nDecision Tree Results:\")\n",
    "decision_tree_model.fit(X_train, y_train)\n",
    "y_pred_tree = decision_tree_model.predict(X_test)\n",
    "accuracy_tree = accuracy_score(y_test, y_pred_tree)\n",
    "accuracies.append(accuracy_tree)\n",
    "print(\"Accuracy:\", accuracy_tree)\n",
    "print(classification_report(y_test, y_pred_tree))\n",
    "print(\"Confusion Matrix:\\n\", confusion_matrix(y_test, y_pred_tree))"
   ]
  },
  {
   "cell_type": "code",
   "execution_count": null,
   "id": "7fd8d787-7e4a-4d44-a28b-0636b93a85d1",
   "metadata": {},
   "outputs": [],
   "source": [
    "print(\"\\nRandom Forest Results:\")\n",
    "random_forest_model.fit(X_train, y_train)\n",
    "y_pred_forest = random_forest_model.predict(X_test)\n",
    "accuracy_forest = accuracy_score(y_test, y_pred_forest)\n",
    "accuracies.append(accuracy_forest)\n",
    "print(\"Accuracy:\", accuracy_forest)\n",
    "print(classification_report(y_test, y_pred_forest))\n",
    "print(\"Confusion Matrix:\\n\", confusion_matrix(y_test, y_pred_forest))"
   ]
  },
  {
   "cell_type": "code",
   "execution_count": null,
   "id": "04b17c01-2850-40e7-a23d-5166d020c17e",
   "metadata": {},
   "outputs": [],
   "source": [
    "plt.figure(figsize=(8, 6))\n",
    "plt.bar(model_names, accuracies, color=['blue', 'green', 'orange'])\n",
    "plt.xlabel(\"Model\")\n",
    "plt.ylabel(\"Accuracy\")\n",
    "plt.title(\"Accuracy Comparison of Models\")\n",
    "plt.show()"
   ]
  },
  {
   "cell_type": "code",
   "execution_count": null,
   "id": "0b7bd3b1-742e-4bfa-8e46-b0924793324d",
   "metadata": {},
   "outputs": [],
   "source": [
    "best_model_name = model_names[accuracies.index(max(accuracies))]\n",
    "print(f\"\\nThe model with the highest accuracy is: {best_model_name}\")"
   ]
  }
 ],
 "metadata": {
  "kernelspec": {
   "display_name": "Python 3 (ipykernel)",
   "language": "python",
   "name": "python3"
  },
  "language_info": {
   "codemirror_mode": {
    "name": "ipython",
    "version": 3
   },
   "file_extension": ".py",
   "mimetype": "text/x-python",
   "name": "python",
   "nbconvert_exporter": "python",
   "pygments_lexer": "ipython3",
   "version": "3.12.7"
  }
 },
 "nbformat": 4,
 "nbformat_minor": 5
}
